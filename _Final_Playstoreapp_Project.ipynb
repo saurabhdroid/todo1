{
  "nbformat": 4,
  "nbformat_minor": 0,
  "metadata": {
    "colab": {
      "private_outputs": true,
      "provenance": [],
      "collapsed_sections": [
        "O_i_v8NEhb9l",
        "j0PmP2TqdimW",
        "nA9Y7ga8ng1Z",
        "dauF4eBmngu3",
        "MSa1f5Uengrz",
        "0wOQAZs5pc--",
        "KSlN3yHqYklG",
        "t6dVpIINYklI",
        "-JiQyfWJYklI",
        "EM7whBJCYoAo",
        "fge-S5ZAYoAp",
        "85gYPyotYoAp",
        "RoGjAbkUYoAp",
        "4Of9eVA-YrdM",
        "bamQiAODYuh1",
        "GwzvFGzlYuh3",
        "qYpmQ266Yuh3",
        "OH-pJp9IphqM",
        "bbFf2-_FphqN",
        "Seke61FWphqN",
        "PIIx-8_IphqN",
        "BZR9WyysphqO",
        "gCFgpxoyphqP",
        "gIfDvo9L0UH2"
      ],
      "cell_execution_strategy": "setup",
      "include_colab_link": true
    },
    "kernelspec": {
      "name": "python3",
      "display_name": "Python 3"
    },
    "language_info": {
      "name": "python"
    }
  },
  "cells": [
    {
      "cell_type": "markdown",
      "metadata": {
        "id": "view-in-github",
        "colab_type": "text"
      },
      "source": [
        "<a href=\"https://colab.research.google.com/github/saurabhdroid/todo1/blob/master/_Final_Playstoreapp_Project.ipynb\" target=\"_parent\"><img src=\"https://colab.research.google.com/assets/colab-badge.svg\" alt=\"Open In Colab\"/></a>"
      ]
    },
    {
      "cell_type": "markdown",
      "source": [
        "# **Project Name**    -Playstore App Review Analysis\n",
        "\n"
      ],
      "metadata": {
        "id": "vncDsAP0Gaoa"
      }
    },
    {
      "cell_type": "markdown",
      "source": [
        "##### **Project Type**    - EDA\n",
        "##### **Contribution**    - Individual.\n"
      ],
      "metadata": {
        "id": "beRrZCGUAJYm"
      }
    },
    {
      "cell_type": "markdown",
      "source": [
        "# **Project Summary -**"
      ],
      "metadata": {
        "id": "FJNUwmbgGyua"
      }
    },
    {
      "cell_type": "markdown",
      "source": [
        "This project aims to harness the vast potential of Play Store app data and customer reviews to identify key factors driving app engagement and success in the Android market. By analyzing app attributes, ratings, and user sentiments, actionable insights will be derived for app developers to optimize their apps, increase engagement, and capture a larger share of the Android market."
      ],
      "metadata": {
        "id": "F6v_1wHtG2nS"
      }
    },
    {
      "cell_type": "markdown",
      "source": [
        "# **GitHub Link -**"
      ],
      "metadata": {
        "id": "w6K7xa23Elo4"
      }
    },
    {
      "cell_type": "markdown",
      "source": [
        "Provide your GitHub Link here."
      ],
      "metadata": {
        "id": "h1o69JH3Eqqn"
      }
    },
    {
      "cell_type": "markdown",
      "source": [
        "# **Problem Statement**\n"
      ],
      "metadata": {
        "id": "yQaldy8SH6Dl"
      }
    },
    {
      "cell_type": "markdown",
      "source": [
        "**Write Problem Statement Here.**\n",
        "\n",
        "\n",
        "\n",
        "This project aims to conduct an in-depth analysis of Android apps and their customer reviews to gain insights into factors that contribute to app engagement and success. The app dataset contains information about various apps, such as their categories, ratings, reviews, and installs. Additionally, the customer reviews dataset includes textual reviews along with corresponding sentiment scores.\n",
        "\n",
        "The project seeks to address the followings:-\n",
        "\n",
        "The critical factors that influence app engagement and success?\n",
        "\n",
        "Can we identify specific patterns that distinguish successful apps in terms of their categories, ratings, and popularity?\n",
        "\n",
        "How do user sentiments expressed in the reviews impact app engagement?\n",
        "\n",
        "Is there a discernible relationship between positive reviews and higher app ratings or installations?\n",
        "\n",
        "What are the most prevalent positive and negative aspects frequently mentioned in customer reviews?\n",
        "\n",
        "Can these insights be leveraged to enhance user experience and overall app performance?\n",
        "\n",
        "Is it possible to predict the sentiment of customer reviews using machine learning techniques based on the review text?\n",
        "\n",
        "Based on the findings, what actionable recommendations can be offered to app developers to optimize user satisfaction and increase the likelihood of app success?\n",
        "\n",
        "By addressing these questions, the project aims to provide valuable and practical insights that can be utilized to improve app development strategies, attract a larger user base, and ensure enhanced user satisfaction.\n",
        "\n"
      ],
      "metadata": {
        "id": "DpeJGUA3kjGy"
      }
    },
    {
      "cell_type": "markdown",
      "source": [
        "#### **Define Your Business Objective?**"
      ],
      "metadata": {
        "id": "PH-0ReGfmX4f"
      }
    },
    {
      "cell_type": "markdown",
      "source": [
        "Playstore App Engagement Optimization"
      ],
      "metadata": {
        "id": "PhDvGCAqmjP1"
      }
    },
    {
      "cell_type": "markdown",
      "source": [
        "# **General Guidelines** : -  "
      ],
      "metadata": {
        "id": "mDgbUHAGgjLW"
      }
    },
    {
      "cell_type": "markdown",
      "source": [
        "1.   Well-structured, formatted, and commented code is required.\n",
        "2.   Exception Handling, Production Grade Code & Deployment Ready Code will be a plus. Those students will be awarded some additional credits.\n",
        "     \n",
        "     The additional credits will have advantages over other students during Star Student selection.\n",
        "       \n",
        "             [ Note: - Deployment Ready Code is defined as, the whole .ipynb notebook should be executable in one go\n",
        "                       without a single error logged. ]\n",
        "\n",
        "3.   Each and every logic should have proper comments.\n",
        "4. You may add as many number of charts you want. Make Sure for each and every chart the following format should be answered.\n",
        "        \n",
        "\n",
        "```\n",
        "# Chart visualization code\n",
        "```\n",
        "            \n",
        "\n",
        "*   Why did you pick the specific chart?\n",
        "*   What is/are the insight(s) found from the chart?\n",
        "* Will the gained insights help creating a positive business impact?\n",
        "Are there any insights that lead to negative growth? Justify with specific reason.\n",
        "\n",
        "5. You have to create at least 20 logical & meaningful charts having important insights.\n",
        "\n",
        "\n",
        "[ Hints : - Do the Vizualization in  a structured way while following \"UBM\" Rule.\n",
        "\n",
        "U - Univariate Analysis,\n",
        "\n",
        "B - Bivariate Analysis (Numerical - Categorical, Numerical - Numerical, Categorical - Categorical)\n",
        "\n",
        "M - Multivariate Analysis\n",
        " ]\n",
        "\n",
        "\n",
        "\n"
      ],
      "metadata": {
        "id": "ZrxVaUj-hHfC"
      }
    },
    {
      "cell_type": "markdown",
      "source": [
        "# ***Let's Begin !***"
      ],
      "metadata": {
        "id": "O_i_v8NEhb9l"
      }
    },
    {
      "cell_type": "markdown",
      "source": [
        "## ***1. Know Your Data***"
      ],
      "metadata": {
        "id": "HhfV-JJviCcP"
      }
    },
    {
      "cell_type": "markdown",
      "source": [
        "### Import Libraries"
      ],
      "metadata": {
        "id": "Y3lxredqlCYt"
      }
    },
    {
      "cell_type": "code",
      "source": [
        "#importing important libraries\n",
        "import pandas as pd\n",
        "import numpy as np\n",
        "import seaborn as sns\n",
        "import matplotlib.pyplot as plt\n",
        "%matplotlib inline"
      ],
      "metadata": {
        "id": "M8Vqi-pPk-HR"
      },
      "execution_count": null,
      "outputs": []
    },
    {
      "cell_type": "code",
      "source": [
        "!git clone https://github.com/saurabhdroid/Play-Store-App-Review-Analysis.git"
      ],
      "metadata": {
        "id": "5TfSwH4HKPT5"
      },
      "execution_count": null,
      "outputs": []
    },
    {
      "cell_type": "markdown",
      "source": [
        "### Dataset Loading"
      ],
      "metadata": {
        "id": "3RnN4peoiCZX"
      }
    },
    {
      "cell_type": "code",
      "source": [
        "from google.colab import drive\n",
        "drive.mount('/content/drive')"
      ],
      "metadata": {
        "id": "Wbk5q0ia_bhY"
      },
      "execution_count": null,
      "outputs": []
    },
    {
      "cell_type": "code",
      "source": [
        "#playstore_data_path = '/content/drive/MyDrive/Colab Playstore-EDA/Play Store Data.csv'\n",
        "#user_reviews_path = '/content/drive/MyDrive/Colab Notebooks/AlmaBetter/Cohort Amsot/Module 1/EDA Capstone Project/Play store Review Analysis/dat/User Reviews.csv'\n",
        " #Load User Reviews dataset\n",
        "user_reviews_df = pd.read_csv(\"/content/drive/MyDrive/User Reviews.csv\")\n",
        "\n",
        "# Load Play Store Data dataset\n",
        "playstore_data_df = pd.read_csv(\"/content/drive/MyDrive/Play Store Data.csv\")"
      ],
      "metadata": {
        "id": "4CkvbW_SlZ_R"
      },
      "execution_count": null,
      "outputs": []
    },
    {
      "cell_type": "markdown",
      "source": [
        "### Dataset First View"
      ],
      "metadata": {
        "id": "x71ZqKXriCWQ"
      }
    },
    {
      "cell_type": "code",
      "source": [
        "#viewing playstore dataframe\n",
        "playstore_data_df.head(-1)"
      ],
      "metadata": {
        "id": "LWNFOSvLl09H"
      },
      "execution_count": null,
      "outputs": []
    },
    {
      "cell_type": "code",
      "source": [
        "#viewing info of playstore dataframe\n",
        "playstore_data_df.info()"
      ],
      "metadata": {
        "id": "4zJrhN42N79s"
      },
      "execution_count": null,
      "outputs": []
    },
    {
      "cell_type": "code",
      "source": [
        "#viewing the available numeric column details\n",
        "playstore_data_df.describe()"
      ],
      "metadata": {
        "id": "1EnRZoazLtAK"
      },
      "execution_count": null,
      "outputs": []
    },
    {
      "cell_type": "markdown",
      "source": [
        "### Dataset Rows & Columns count"
      ],
      "metadata": {
        "id": "7hBIi_osiCS2"
      }
    },
    {
      "cell_type": "code",
      "source": [
        "\n",
        "#viewing the columns name\n",
        "playstore_data_df.columns"
      ],
      "metadata": {
        "id": "Kllu7SJgmLij"
      },
      "execution_count": null,
      "outputs": []
    },
    {
      "cell_type": "code",
      "source": [
        "#viewing the database\n",
        "user_reviews_df"
      ],
      "metadata": {
        "id": "VZvr_BchMj2A"
      },
      "execution_count": null,
      "outputs": []
    },
    {
      "cell_type": "code",
      "source": [
        "#viewing the database info\n",
        "\n",
        "user_reviews_df.info()"
      ],
      "metadata": {
        "id": "VFK87an2MnqB"
      },
      "execution_count": null,
      "outputs": []
    },
    {
      "cell_type": "code",
      "source": [
        "#viewing the database numeric details\n",
        "\n",
        "user_reviews_df.describe()"
      ],
      "metadata": {
        "id": "kmeaECmMMtn4"
      },
      "execution_count": null,
      "outputs": []
    },
    {
      "cell_type": "markdown",
      "source": [
        "### Dataset Information"
      ],
      "metadata": {
        "id": "JlHwYmJAmNHm"
      }
    },
    {
      "cell_type": "markdown",
      "source": [
        "Observations:\n",
        "The data has 12 objects and 1 numeric feature.\n",
        "We need to convert the columns - Reviews, Size, Installs and Price- to int.\n",
        "We need to change the column Last Updated into date-time."
      ],
      "metadata": {
        "id": "zIcERY6zAWqB"
      }
    },
    {
      "cell_type": "markdown",
      "source": [
        "#What did you know about your dataset?"
      ],
      "metadata": {
        "id": "kJ5__makhGBC"
      }
    },
    {
      "cell_type": "markdown",
      "source": [
        "The dataset includes information about Android apps on the Play Store and user reviews for these apps. It contains details like app names, categories, ratings, reviews, installs, sizes, and more. Some rows have missing values, and the user reviews dataset includes sentiment labels and polarity for the reviews.\n",
        "\n",
        "User Reviews Dataset has 64295 rows and 5 columns. Play Store Data Dataset has 10839 rows and 13 columns."
      ],
      "metadata": {
        "id": "6SwWKMdDhNWh"
      }
    },
    {
      "cell_type": "markdown",
      "source": [
        "## ***2.1 Cleaning the data of playstore database***\n",
        "\n",
        "Finding carbage values from all the colums and drop the rows\n",
        "Drop the found carpage containing rows\n",
        "Coverting 'Size' column into valid numeric column\n",
        "Coverting 'Reviews' column into valid numeric column\n",
        "Coverting 'Installs' column into valid numeric column **bold text**\n",
        "\n",
        "---\n",
        "\n"
      ],
      "metadata": {
        "id": "j0PmP2TqdimW"
      }
    },
    {
      "cell_type": "code",
      "source": [
        "# Finding the row with insufficiant data\n",
        "playstore_data_df[playstore_data_df['Type']!='Free'][playstore_data_df[playstore_data_df['Type']!='Free']['Price']=='0']"
      ],
      "metadata": {
        "id": "FqaD8ph5h4TN"
      },
      "execution_count": null,
      "outputs": []
    },
    {
      "cell_type": "code",
      "source": [
        "#Droping the row from the data frame\n",
        "playstore_data_df.drop(playstore_data_df[playstore_data_df['Type']!='Free'][playstore_data_df[playstore_data_df['Type']!='Free']['Price']=='0'].index, inplace=True)"
      ],
      "metadata": {
        "id": "PS3C_9KDiD8B"
      },
      "execution_count": null,
      "outputs": []
    },
    {
      "cell_type": "code",
      "source": [
        "#Finding value mismatched row\n",
        "playstore_data_df[playstore_data_df['Genres']=='February 11, 2018']"
      ],
      "metadata": {
        "id": "_UgIeUOoiKXN"
      },
      "execution_count": null,
      "outputs": []
    },
    {
      "cell_type": "code",
      "source": [
        "#Finding the index of the row which containing the carbage values\n",
        "playstore_data_df[playstore_data_df['Genres']=='February 11, 2018'].index"
      ],
      "metadata": {
        "id": "EMwmQ_NCPKFg"
      },
      "execution_count": null,
      "outputs": []
    },
    {
      "cell_type": "code",
      "source": [
        "#Droping the found carbage row from our dataframe\n",
        "playstore_data_df.drop(playstore_data_df[playstore_data_df['Genres']=='February 11, 2018'].index, inplace=True)"
      ],
      "metadata": {
        "id": "9xBHKgr-PO2g"
      },
      "execution_count": null,
      "outputs": []
    },
    {
      "cell_type": "code",
      "source": [
        "#Clean string function\n",
        "def clean_it(num):\n",
        "  \"\"\"This function takes a string and replace the following characters if present, '+', ',' ,'$', 'M', 'k', 'NaN'\"\"\"\n",
        "  if '+' in num:\n",
        "    num = num.replace('+','')\n",
        "  if ',' in num:\n",
        "    num = num.replace(',','')\n",
        "  if '$' in num:\n",
        "    num = num.replace('$','')\n",
        "  if 'M' in num:\n",
        "    num = str(int(float(num.replace('M',''))*1000000))\n",
        "  if 'k' in num:\n",
        "    num = str(int(float(num.replace('k',''))*1000))\n",
        "  if 'NaN' in num:\n",
        "    num = '0'\n",
        "  else:\n",
        "    pass\n",
        "  return num"
      ],
      "metadata": {
        "id": "rF_qHch3yi2v"
      },
      "execution_count": null,
      "outputs": []
    },
    {
      "cell_type": "code",
      "source": [
        "# Cleaning the unwanted charactors and converting the required column values into valid numeric type\n",
        "\n",
        "#Changing the 'Reviews' column values into valid numeric values\n",
        "playstore_data_df['Reviews'] = pd.to_numeric(playstore_data_df['Reviews'])\n",
        "\n",
        "#Changing the 'Size' column values into valid numeric values\n",
        "playstore_data_df['Size'] = playstore_data_df['Size'].apply(lambda x: str(x).replace('Varies with device', 'NaN') if 'Varies with device' in str(x) else x)\n",
        "playstore_data_df['Size'] = pd.to_numeric(playstore_data_df['Size'].map(lambda x: clean_it(x)))\n",
        "\n",
        "#Changing the 'Installs' column values into valid numeric values\n",
        "playstore_data_df['Installs'] = pd.to_numeric(playstore_data_df['Installs'].map(lambda x: clean_it(x)))\n",
        "\n",
        "#Changing the 'Price' column values into valid numeric values\n",
        "playstore_data_df['Price'] = pd.to_numeric (playstore_data_df['Price'].map(lambda x:clean_it(x)))\n",
        "playstore_data_df.info()"
      ],
      "metadata": {
        "id": "Q4J_iIh0y_iF"
      },
      "execution_count": null,
      "outputs": []
    },
    {
      "cell_type": "markdown",
      "source": [
        "### What did you know about your dataset?"
      ],
      "metadata": {
        "id": "H0kj-8xxnORC"
      }
    },
    {
      "cell_type": "markdown",
      "source": [
        "The dataset includes information about Android apps on the Play Store and user reviews for these apps. It contains details like app names, categories, ratings, reviews, installs, sizes, and more. Some rows have missing values, and the user reviews dataset includes sentiment labels and polarity for the reviews.\n",
        "\n",
        "User Reviews Dataset has 64295 rows and 5 columns.\n",
        "Play Store Data Dataset has 10841 rows and 13 columns."
      ],
      "metadata": {
        "id": "gfoNAAC-nUe_"
      }
    },
    {
      "cell_type": "markdown",
      "source": [
        "## ***2.2. Cleaning the data of User reviews database***\n",
        "\n",
        "Eleminating the null value rows from the database"
      ],
      "metadata": {
        "id": "nA9Y7ga8ng1Z"
      }
    },
    {
      "cell_type": "code",
      "source": [
        "#Eleminating the null value rows from the database\n",
        "\n",
        "non_null_user_reviews_df = user_reviews_df[~user_reviews_df['Sentiment'].isna()]\n",
        "non_null_user_reviews_df.info()"
      ],
      "metadata": {
        "id": "j7xfkqrt5Ag5"
      },
      "execution_count": null,
      "outputs": []
    },
    {
      "cell_type": "code",
      "source": [
        "non_null_user_reviews_df"
      ],
      "metadata": {
        "id": "DnOaZdaE5Q5t"
      },
      "execution_count": null,
      "outputs": []
    },
    {
      "cell_type": "markdown",
      "source": [
        "### Variables Description"
      ],
      "metadata": {
        "id": "PBTbrJXOngz2"
      }
    },
    {
      "cell_type": "markdown",
      "source": [
        "**User Reviews Dataset:**\n",
        "\n",
        "**Translated_Review**: User review text.\n",
        "**Sentiment**: Review sentiment label.\n",
        "**Sentiment_Polarity**: Sentiment polarity score.\n",
        "**Sentiment_Subjectivity**: Sentiment subjectivity score.\n",
        "\n",
        "**Play Store Data Dataset:**\n",
        "\n",
        "**App**: Name of the Android app.\n",
        "**Category**: App category or genre.\n",
        "**Rating**: Average rating on the Play Store.\n",
        "**Reviews**: Number of user reviews.\n",
        "**Size**: App size.\n",
        "**Installs**: Number of app installations.\n",
        "**Type**: App type (Free or Paid).\n",
        "**Price**: App price (0 for Free apps).\n",
        "**Content Rating**: Age group suitability.\n",
        "**Genres**: Additional app genres or tags.\n",
        "**Last Updated**: Date of last app update.\n",
        "**Current Ver**: Current app version.\n",
        "**Android Ver**: Minimum required Android version."
      ],
      "metadata": {
        "id": "aJV4KIxSnxay"
      }
    },
    {
      "cell_type": "markdown",
      "source": [
        "## 3. ***Data Wrangling***"
      ],
      "metadata": {
        "id": "dauF4eBmngu3"
      }
    },
    {
      "cell_type": "markdown",
      "source": [
        "### Data Wrangling Code"
      ],
      "metadata": {
        "id": "bKJF3rekwFvQ"
      }
    },
    {
      "cell_type": "code",
      "source": [
        "# Filtering duplicate apps\n",
        "dupli_col_chk = playstore_data_df.duplicated(subset='App').any()\n",
        "print(dupli_col_chk)\n"
      ],
      "metadata": {
        "id": "wk-9a2fpoLcV"
      },
      "execution_count": null,
      "outputs": []
    },
    {
      "cell_type": "code",
      "source": [
        "#Apps and their counts\n",
        "playstore_data_df['App'].value_counts()\n"
      ],
      "metadata": {
        "id": "LhSI2Abqf-bT"
      },
      "execution_count": null,
      "outputs": []
    },
    {
      "cell_type": "code",
      "source": [
        "#taking all the last rows of data for each app\n",
        "ps_last_r_df = playstore_data_df.groupby('App').tail(1).reset_index()\n",
        "app_rev_max_df = ps_last_r_df.loc[ps_last_r_df.groupby(['App'])['Reviews'].idxmax()]"
      ],
      "metadata": {
        "id": "_-zkfurmgEli"
      },
      "execution_count": null,
      "outputs": []
    },
    {
      "cell_type": "code",
      "source": [
        "#Getting Genres\n",
        "top_genres_df = app_rev_max_df.Genres.value_counts().reset_index().rename(columns={'Genres':'Count','index':'Genres'})"
      ],
      "metadata": {
        "id": "ESrdXZa8gJnz"
      },
      "execution_count": null,
      "outputs": []
    },
    {
      "cell_type": "code",
      "source": [
        "top_genres_df"
      ],
      "metadata": {
        "id": "fjLn757tgMx8"
      },
      "execution_count": null,
      "outputs": []
    },
    {
      "cell_type": "code",
      "source": [
        "app_rev_max_df[app_rev_max_df['Price'] == 0]"
      ],
      "metadata": {
        "id": "qKhSh38MgRI7"
      },
      "execution_count": null,
      "outputs": []
    },
    {
      "cell_type": "code",
      "source": [
        "#Preparing dataframe which contains free app install counts\n",
        "genres_free_apps_installs_df = app_rev_max_df[app_rev_max_df['Price'] == 0].groupby(['Genres'])[['Installs']].sum()\n",
        "genres_free_apps_installs_df"
      ],
      "metadata": {
        "id": "DTQ94qjegeAo"
      },
      "execution_count": null,
      "outputs": []
    },
    {
      "cell_type": "markdown",
      "source": [
        "Explaination:- Resulting DataFrame genres_free_apps_installs_df contains two columns: 'Genres' and 'Installs'. Each row represents a genre, and the 'Installs' column contains the total number of installs for all free apps in that genre.\n",
        "\n",
        "Overall, this code prepares a DataFrame that shows the total install counts for each genre, considering only free apps from the original DataFrame app_rev_max_df"
      ],
      "metadata": {
        "id": "g8GOxMs5Ly6G"
      }
    },
    {
      "cell_type": "code",
      "source": [
        "#Preparing dataframe which contains paid app install counts\n",
        "genres_paid_apps_installs_df = playstore_data_df[playstore_data_df['Price']!= 0].groupby(['Genres'])[['Installs']].sum().rename(columns={'Installs':'Paid_app_installs'})"
      ],
      "metadata": {
        "id": "U_XIXNVUgxnt"
      },
      "execution_count": null,
      "outputs": []
    },
    {
      "cell_type": "code",
      "source": [
        "#Preparing dataframe which contains mean Rating\n",
        "genres_ratings_df = app_rev_max_df.groupby(['Genres'])[['Rating']].mean()\n",
        "genres_ratings_df"
      ],
      "metadata": {
        "id": "CSjd3s_cg6gy"
      },
      "execution_count": null,
      "outputs": []
    },
    {
      "cell_type": "code",
      "source": [
        "#Mergering all the data previous dataframes\n",
        "top_genres_installs_df = pd.merge(top_genres_df, genres_free_apps_installs_df, on='Genres')\n",
        "top_genres_apps_installs_df = pd.merge(top_genres_installs_df, genres_paid_apps_installs_df, on='Genres')\n",
        "top_genres_apps_installsr_df = pd.merge(top_genres_apps_installs_df, genres_ratings_df, on='Genres')\n",
        "\n",
        "#Getting top 50 data frames based on the Genres\n",
        "top_50_genres_df = top_genres_apps_installsr_df.head(50)\n",
        "top_50_genres_df"
      ],
      "metadata": {
        "id": "qkK1WaWmhAay"
      },
      "execution_count": null,
      "outputs": []
    },
    {
      "cell_type": "markdown",
      "source": [
        "### What all manipulations have you done and insights you found?"
      ],
      "metadata": {
        "id": "MSa1f5Uengrz"
      }
    },
    {
      "cell_type": "markdown",
      "source": [
        "Manipulations:\n",
        "\n",
        "Removed duplicate rows to ensure data cleanliness and avoid counting the same data multiple times.\n",
        "Handled missing values by either dropping rows or filling them with appropriate values (e.g., mean, median) based on the nature of the data and the analysis requirements.\n",
        "\n",
        "\n",
        "Insights (Hypothetical examples):\n",
        "Average Rating by Category: Identified which app categories have the highest and lowest average ratings, helping developers understand which categories are more popular among users.\n",
        "Distribution of Installs by Content Rating: Analyzed the spread of app installs based on the content rating, potentially revealing which age groups show higher interest in different types of apps.\n",
        "Relationship between App Size and Rating: Explored whether there is any correlation between app size and user ratings, which might indicate whether users prefer smaller or larger apps.\n",
        "Distribution of App Prices by Category: Discovered the price distribution across different app categories, providing insights into which categories tend to have more expensive apps."
      ],
      "metadata": {
        "id": "LbyXE7I1olp8"
      }
    },
    {
      "cell_type": "markdown",
      "source": [
        "## ***4. Data Vizualization, Storytelling & Experimenting with charts : Understand the relationships between variables***"
      ],
      "metadata": {
        "id": "GF8Ens_Soomf"
      }
    },
    {
      "cell_type": "markdown",
      "source": [
        "#### Chart - 1 Exploring app 'Genres' and Coun\n",
        "\n",
        "This bar chart will give as the following:\n",
        "\n",
        "What are the top 10 Genres based on the downloads? Which genres having the most number of app counts? Which are genres having the less number of app counts?"
      ],
      "metadata": {
        "id": "0wOQAZs5pc--"
      }
    },
    {
      "cell_type": "code",
      "source": [
        "plt.figure(figsize=(20, 10))\n",
        "sns.barplot(data=top_genres_df, x='Genres', y='Count')\n",
        "plt.xticks(rotation=90)\n",
        "plt.title('Top 50 Genres VS App Counts')\n",
        "plt.ylabel('Number of applications')\n",
        "plt.xlabel('Genres')\n",
        "\n",
        "plt.show()\n",
        "\n",
        "\n",
        "\n",
        "\n",
        "\n"
      ],
      "metadata": {
        "id": "7v_ESjsspbW7"
      },
      "execution_count": null,
      "outputs": []
    },
    {
      "cell_type": "markdown",
      "source": [
        "##### 1. Why did you pick the specific chart?"
      ],
      "metadata": {
        "id": "K5QZ13OEpz2H"
      }
    },
    {
      "cell_type": "markdown",
      "source": [
        "From the given database the apps can be filtered or grouped one feature with one or more other features for diffenrent view of information gathering. Playsotre has given a feature called 'Genres' with that we can come to know that to which the app is related to. 'Genres' means it denotes a style or category. One app can have more than one'Genres'. Here we have plotted a bar chat to know about the Genres and and corresponding apps count, which are belongs to the 'Genres'.\n",
        "\n",
        "This bar chart will give as the following:\n",
        "\n",
        "What are the top 10 Genres based on the downloads?\n",
        "Which genres having the most number of app counts?\n",
        "Which are genres having the less number of app counts?Answer Here."
      ],
      "metadata": {
        "id": "XESiWehPqBRc"
      }
    },
    {
      "cell_type": "markdown",
      "source": [
        "#### Chart - 2 Exploring Installed Free and Paid Apps: A Comparative Analysis\n",
        "\n",
        "In this analysis, we will explore and compare the installation trends of free and paid apps across different genres. The main objectives are as follows:\n",
        "\n",
        "Identify the genres with the highest number of installations for free apps: We will analyze which genres attract the most installations for free apps, helping us understand user preferences in terms of freely available applications.\n",
        "\n",
        "Identify the genres with the highest number of installations for paid apps: We will examine which genres garner the most installations for paid apps, providing insights into the market demand for paid applications.\n",
        "\n",
        "Analyze the preferred purposes of paid apps: We will study the genres of paid apps that are most preferred by users, shedding light on the types of applications users are willing to pay for.\n",
        "\n",
        "Compare free and paid apps within the same genre: We will assess which genres have free apps that offer better service or features compared to their corresponding paid versions, providing valuable insights into user behavior and willingness to invest in premium versions of applications.\n",
        "\n",
        "This analysis aims to provide a comprehensive understanding of user preferences and trends in the free and paid app market across different genres.\n",
        "\n",
        "\n",
        "\n",
        "\n",
        "\n"
      ],
      "metadata": {
        "id": "KSlN3yHqYklG"
      }
    },
    {
      "cell_type": "code",
      "source": [
        "#Plotting Top 50 Genres VS Free apps install count chart\n",
        "\n",
        "plt.figure(figsize=(20, 10))\n",
        "sns.barplot(data=top_50_genres_df, x='Genres', y='Installs')\n",
        "plt.xticks(rotation=90)\n",
        "plt.title('Top 50 Genres VS Free App Install Counts')\n",
        "plt.ylabel('Number of installations (1000 millions)')\n",
        "plt.xlabel('Genres')\n",
        "\n",
        "plt.show()"
      ],
      "metadata": {
        "id": "R4YgtaqtYklH"
      },
      "execution_count": null,
      "outputs": []
    },
    {
      "cell_type": "code",
      "source": [
        "#Plotting Top 50 Genres VS Paid apps install count chart\n",
        "\n",
        "plt.figure(figsize=(20, 10))\n",
        "sns.barplot(data=top_50_genres_df, x='Genres', y='Paid_app_installs')\n",
        "plt.title('Top 50 Genres VS Paid App Install Counts')\n",
        "plt.ylabel('Number of paid installations (1000 millions)')\n",
        "plt.xlabel('Genres')\n",
        "\n",
        "plt.show()\n",
        "\n",
        "\n",
        "\n",
        "\n",
        "\n",
        "\n"
      ],
      "metadata": {
        "id": "Cl9yMf1Jh-J8"
      },
      "execution_count": null,
      "outputs": []
    },
    {
      "cell_type": "markdown",
      "source": [
        "##### 1. Why did you pick the specific chart?"
      ],
      "metadata": {
        "id": "t6dVpIINYklI"
      }
    },
    {
      "cell_type": "markdown",
      "source": [
        "People always download, install and use the apps based on their necessity or interest. In playstore both free and paid apps are available in all the Genres or Category. Generally people always prefer free apps than paid apps untill all the free apps of the particular Genres or Category is not satisfied or not fullfilled their purpose. So we have plotted again a bar chart based on the top genres and install counts for both free and paid apps.Answer Here."
      ],
      "metadata": {
        "id": "5aaW0BYyYklI"
      }
    },
    {
      "cell_type": "markdown",
      "source": [
        "##### 2. What is/are the insight(s) found from the chart?"
      ],
      "metadata": {
        "id": "ijmpgYnKYklI"
      }
    },
    {
      "cell_type": "markdown",
      "source": [
        "This gives the following insights:\n",
        "\n",
        "\n",
        "*Genres with the Highest Number of Free Apps Installed\n",
        "\n",
        "*Genres with the Highest Number of Paid Apps Installed\n",
        "\n",
        "*Preferred Purposes of Paid App\n",
        "\n",
        "*Free Apps vs. Paid Apps within the Same Genre\n",
        "\n",
        "\n",
        "*Popularity of Freemium Models\n",
        "\n",
        "*Genres with the Highest Number of Free Apps Installed\n",
        "*Genres with the Highest Number of Paid Apps Installed\n",
        "\n",
        "*Preferred Purposes of Paid Apps\n",
        "*Popularity of Freemium Models\n",
        "\n"
      ],
      "metadata": {
        "id": "PSx9atu2YklI"
      }
    },
    {
      "cell_type": "markdown",
      "source": [
        "##### 3. Will the gained insights help creating a positive business impact?\n",
        "Are there any insights that lead to negative growth? Justify with specific reason."
      ],
      "metadata": {
        "id": "-JiQyfWJYklI"
      }
    },
    {
      "cell_type": "markdown",
      "source": [
        "Positive Business Impact:\n",
        "\n",
        "Targeted Marketing and User Acquisition: Understanding the genres with the highest number of free and paid app installations can help businesses target their marketing efforts more effectively. They can tailor their marketing campaigns to attract users who are more likely to be interested in their apps.\n",
        "\n",
        "App Monetization Strategies: Identifying the genres where users are willing to pay for apps can guide businesses in developing premium or subscription-based versions of their apps. This can lead to increased revenue and higher profitability.\n",
        "\n",
        "Product Development and Enhancements: Analyzing user preferences and popular genres can help businesses identify areas for improvement in their existing apps or guide the development of new apps that align with market demand.\n",
        "\n",
        "User Experience and Retention: By understanding the purposes and preferences of users for paid apps, businesses can enhance the user experience and implement features that keep users engaged and satisfied. This can lead to higher user retention and loyalty.\n",
        "\n",
        "Negative Growth:\n",
        "\n",
        "While insights can mostly lead to positive business outcomes, there are certain scenarios where they might not result in favorable outcomes:\n",
        "\n",
        "Lack of Monetization Opportunities: If the insights reveal that users are primarily interested in free apps and are less willing to pay for apps in certain genres, it might limit revenue generation opportunities for businesses operating in those genres.\n",
        "\n",
        "Saturated Markets: Insights indicating high competition and saturation in certain genres may make it challenging for new entrants to gain traction and grow. Businesses might face difficulty standing out in overcrowded app markets.\n",
        "\n",
        "Misinterpretation or Mismanagement of Insights: Incorrect interpretation or ineffective implementation of insights can lead to wasted resources and efforts. It's essential for businesses to carefully analyze and act upon the data to achieve positive results.\n",
        "\n",
        "Overall, the impact of insights on business growth depends on the ability of the business to leverage the data effectively, adapt to market dynamics, and respond to user preferences with meaningful strategies and actions. Effective decision-making, user-centric approaches, and continuous adaptation to changing market demands are key factors in converting insights into positive business impact."
      ],
      "metadata": {
        "id": "BcBbebzrYklV"
      }
    },
    {
      "cell_type": "markdown",
      "source": [
        "#### Chart - 3 Analysing the relationship between the free apps, paid apps and their price\n",
        "\n",
        "As we saw earlier people generally goes with free apps, but if they really want it, then they have to buy the paid apps by spending some money. The price of the apps may vari based on the features and uses. Here we have plotted the comparision between the paid and free apps, price variation based on the app Category\n",
        "\n",
        "\n",
        "1.  The 1st plot gives the installation count comparision between the Free and Paid apps\n",
        "2. 2nd plot shows the price ranges as histogram\n",
        "3. 3rd plot shows the price ranges across different categories\n",
        "\n",
        "\n"
      ],
      "metadata": {
        "id": "EM7whBJCYoAo"
      }
    },
    {
      "cell_type": "code",
      "source": [
        "# Chart - 3 visualization code\n",
        "#Category wise free and paid app installs count\n",
        "categoty_type_installs_df = playstore_data_df.groupby(['Category','Type'])[['Installs']].sum().unstack().reset_index()\n",
        "categoty_type_installs_df = categoty_type_installs_df[~categoty_type_installs_df['Installs']['Paid'].isna()].set_index('Category')\n",
        "categoty_type_installs_df"
      ],
      "metadata": {
        "id": "t6GMdE67YoAp"
      },
      "execution_count": null,
      "outputs": []
    },
    {
      "cell_type": "code",
      "source": [
        "#Plot between Paid and Free installed app counts\n",
        "color_red = '#4472c4'\n",
        "color_blue = '#ed7d31'\n",
        "\n",
        "ind = categoty_type_installs_df.index\n",
        "column0 = categoty_type_installs_df['Installs']['Paid']\n",
        "column1 = categoty_type_installs_df['Installs']['Free']\n",
        "title0 = 'Paid app install Counts(in millions)'\n",
        "title1 = 'Free app install Counts(in 100 millions)'\n",
        "\n",
        "fig, axes = plt.subplots(figsize=(20,10), ncols=2, sharey=True)\n",
        "fig.tight_layout()\n",
        "\n",
        "axes[0].barh(ind, column0, align='center', color=color_red, zorder=10)\n",
        "axes[0].set_title(title0, fontsize=18, pad=15, color=color_red)\n",
        "axes[1].barh(ind, column1, align='center', color=color_blue, zorder=10)\n",
        "axes[1].set_title(title1, fontsize=18, pad=15, color=color_blue)\n",
        "\n",
        "# If you have positive numbers and want to invert the x-axis of the left plot\n",
        "axes[0].invert_xaxis()\n",
        "\n",
        "# To show data from highest to lowest\n",
        "# plt.gca().invert_yaxis()\n",
        "axes[0].set(yticks=ind, yticklabels=ind)\n",
        "axes[0].yaxis.tick_left()\n",
        "\n",
        "plt.subplots_adjust(wspace=0, top=0.85, bottom=0.1, left=0.18, right=0.95)"
      ],
      "metadata": {
        "id": "ug8arFrVi3bb"
      },
      "execution_count": null,
      "outputs": []
    },
    {
      "cell_type": "code",
      "source": [
        "#Histogram of pice range of piad apps\n",
        "price_df = playstore_data_df[~playstore_data_df['Price'].isna() & playstore_data_df['Price'] != 0]['Price']\n",
        "plt.hist(price_df.values, color='Red')\n",
        "plt.xlabel('Price(USD)')\n",
        "plt.ylabel('Frequency')\n",
        "plt.title('Histogram of Price')"
      ],
      "metadata": {
        "id": "6F6Y2bHXi7fB"
      },
      "execution_count": null,
      "outputs": []
    },
    {
      "cell_type": "code",
      "source": [
        "#App pricing across categories for Paid apps\n",
        "categrory_price_mean_df = playstore_data_df[playstore_data_df['Price'] !=  0].groupby(['Category'])['Price'].mean().reset_index(name='Price')\n",
        "ax = sns.stripplot(x='Price', y='Category', data=categrory_price_mean_df, jitter=True, linewidth=1)\n",
        "ax.set_title('App pricing trend across categories(in USD)')\n",
        "# categrory_price_mean_df"
      ],
      "metadata": {
        "id": "LHnfpGG8jEra"
      },
      "execution_count": null,
      "outputs": []
    },
    {
      "cell_type": "markdown",
      "source": [
        "##### 1. Why did you pick the specific chart?"
      ],
      "metadata": {
        "id": "fge-S5ZAYoAp"
      }
    },
    {
      "cell_type": "markdown",
      "source": [
        "Answer Here."
      ],
      "metadata": {
        "id": "5dBItgRVYoAp"
      }
    },
    {
      "cell_type": "markdown",
      "source": [
        "##### 2. What is/are the insight(s) found from the chart?"
      ],
      "metadata": {
        "id": "85gYPyotYoAp"
      }
    },
    {
      "cell_type": "markdown",
      "source": [
        "Answer Here"
      ],
      "metadata": {
        "id": "4jstXR6OYoAp"
      }
    },
    {
      "cell_type": "markdown",
      "source": [
        "##### 3. Will the gained insights help creating a positive business impact?\n",
        "Are there any insights that lead to negative growth? Justify with specific reason."
      ],
      "metadata": {
        "id": "RoGjAbkUYoAp"
      }
    },
    {
      "cell_type": "markdown",
      "source": [
        "Answer Here"
      ],
      "metadata": {
        "id": "zfJ8IqMcYoAp"
      }
    },
    {
      "cell_type": "markdown",
      "source": [
        "#### Chart - 4 Based On Rating anlysis\n",
        "\n",
        "The analysing of app ratings is important because, this only gives the information how much an app is liked or disliked by the people. So that we have plotted the histrogram for Ratings and in the 2nd plot, it shows the category wise avg rating."
      ],
      "metadata": {
        "id": "4Of9eVA-YrdM"
      }
    },
    {
      "cell_type": "code",
      "source": [
        "# Chart - 4 visualization code\n",
        "#Ploting the histogram Rating\n",
        "rating_df = playstore_data_df[~playstore_data_df['Rating'].isna()]['Rating']\n",
        "\n",
        "plt.title('Histogram of Rating')\n",
        "sns.distplot(rating_df, hist=True)"
      ],
      "metadata": {
        "id": "irlUoxc8YrdO"
      },
      "execution_count": null,
      "outputs": []
    },
    {
      "cell_type": "code",
      "source": [
        "#ploting Catefgory wise mean Rating\n",
        "category_mean_rating_df = playstore_data_df.groupby(['Category'])['Rating'].mean().reset_index(name='Rating')\n",
        "category_mean_rating_df.set_index('Category').plot(kind='bar')\n",
        "plt.rcParams['figure.figsize'] = (20, 10)\n",
        "plt.rc('font', size=14)\n",
        "plt.xticks(rotation=90)\n",
        "plt.title('Category VS Mean Rating')\n",
        "plt.ylabel('Ratings out of 5')\n",
        "plt.xlabel('Category')"
      ],
      "metadata": {
        "id": "Yu8H0voSjW3c"
      },
      "execution_count": null,
      "outputs": []
    },
    {
      "cell_type": "code",
      "source": [
        "#Ratings given by different age of people\n",
        "content_rating_df = playstore_data_df['Content Rating'].value_counts()\n",
        "content_rating_df"
      ],
      "metadata": {
        "id": "34Fsh5h0jdws"
      },
      "execution_count": null,
      "outputs": []
    },
    {
      "cell_type": "code",
      "source": [
        "content_rating_df.plot(kind='pie', fontsize=10, explode= (0.1,0.2,0.3,0.4,0.5,0.1), autopct='%1.2f%%', pctdistance=1.1, labeldistance=1.2)\n",
        "# .Genres.value_counts().reset_index().rename(columns={'Genres':'Count','index':'Genres'})"
      ],
      "metadata": {
        "id": "GycnRO7LjjQ7"
      },
      "execution_count": null,
      "outputs": []
    },
    {
      "cell_type": "code",
      "source": [
        "#Getting the top downloaded 10 apps and their Ratings vs Reviews\n",
        "top_downloaded_apps = playstore_data_df.groupby('App').tail(1).sort_values(['Installs','Rating'], ascending=False).head(50)\n",
        "top_10_downloaded_apps = top_downloaded_apps.head(10).set_index('App')[['Rating','Reviews']].sort_values(['Reviews'])"
      ],
      "metadata": {
        "id": "kvSGYGAEjoJb"
      },
      "execution_count": null,
      "outputs": []
    },
    {
      "cell_type": "code",
      "source": [
        "#Plotting between Top ratting apps and reviews\n",
        "color_red = '#4472c4'\n",
        "color_blue = '#ed7d31'\n",
        "\n",
        "ind = top_10_downloaded_apps.index\n",
        "column0 = top_10_downloaded_apps['Reviews']\n",
        "column1 = top_10_downloaded_apps['Rating']\n",
        "title0 = 'Total ratings out of 5'\n",
        "title1 = 'Total reviews in 10 millions'\n",
        "\n",
        "fig, axes = plt.subplots(figsize=(10,5), ncols=2, sharey=True)\n",
        "fig.tight_layout()\n",
        "\n",
        "axes[0].barh(ind, column0, align='center', color=color_red, zorder=10)\n",
        "axes[0].set_title(title0, fontsize=18, pad=15, color=color_red)\n",
        "axes[1].barh(ind, column1, align='center', color=color_blue, zorder=10)\n",
        "axes[1].set_title(title1, fontsize=18, pad=15, color=color_blue)\n",
        "\n",
        "# If you have positive numbers and want to invert the x-axis of the left plot\n",
        "axes[0].invert_xaxis()\n",
        "\n",
        "# To show data from highest to lowest\n",
        "# plt.gca().invert_yaxis()\n",
        "axes[0].set(yticks=ind, yticklabels=ind)\n",
        "axes[0].yaxis.tick_left()\n",
        "\n",
        "axes[0].set_xticklabels([1, 2, 3, 4, 5])\n",
        "axes[1].set_xticklabels([0, 10, 20, 30, 40, 50])\n",
        "\n",
        "plt.subplots_adjust(wspace=0, top=0.85, bottom=0.1, left=0.18, right=0.95)"
      ],
      "metadata": {
        "id": "ysm9k2IKjuc5"
      },
      "execution_count": null,
      "outputs": []
    },
    {
      "cell_type": "markdown",
      "source": [
        "#### Chart - 5 - Analysing the user Subjectivity"
      ],
      "metadata": {
        "id": "bamQiAODYuh1"
      }
    },
    {
      "cell_type": "code",
      "source": [
        "# Chart - 5 visualization code\n",
        "#Plotting the distribution of Subjectivity\n",
        "sentiment_subjectivity_df = non_null_user_reviews_df['Sentiment_Subjectivity']\n",
        "sns.distplot(sentiment_subjectivity_df, hist=True)\n",
        "plt.xlabel(\"Subjectivity\")\n",
        "plt.title('Distribution of Subjectivity')"
      ],
      "metadata": {
        "id": "TIJwrbroYuh3"
      },
      "execution_count": null,
      "outputs": []
    },
    {
      "cell_type": "markdown",
      "source": [
        "##### 1. Why did you pick the specific chart?"
      ],
      "metadata": {
        "id": "QHF8YVU7Yuh3"
      }
    },
    {
      "cell_type": "markdown",
      "source": [
        "\n",
        "\n",
        "```\n",
        "```\n",
        "The maximum number of sentiment subjectivity lies between 0.4 to 0.7. From this we can conclude that maximum number of users give reviews to the applications, according to their experience."
      ],
      "metadata": {
        "id": "dcxuIMRPYuh3"
      }
    },
    {
      "cell_type": "markdown",
      "source": [
        "##### 2. What is/are the insight(s) found from the chart?"
      ],
      "metadata": {
        "id": "GwzvFGzlYuh3"
      }
    },
    {
      "cell_type": "markdown",
      "source": [
        "Answer Here"
      ],
      "metadata": {
        "id": "uyqkiB8YYuh3"
      }
    },
    {
      "cell_type": "markdown",
      "source": [
        "##### 3. Will the gained insights help creating a positive business impact?\n",
        "Are there any insights that lead to negative growth? Justify with specific reason."
      ],
      "metadata": {
        "id": "qYpmQ266Yuh3"
      }
    },
    {
      "cell_type": "markdown",
      "source": [
        "Answer Here"
      ],
      "metadata": {
        "id": "_WtzZ_hCYuh4"
      }
    },
    {
      "cell_type": "markdown",
      "source": [
        "#### Chart - 6  Sentiment Subjectivity and Sentiment Polarity Relationship analysis\n",
        "\n",
        "From the above scatter plot it can be concluded that sentiment subjectivity is not always proportional to sentiment polarity but in maximum number of cases, it shows a proportional behavior when variance is too high or low."
      ],
      "metadata": {
        "id": "OH-pJp9IphqM"
      }
    },
    {
      "cell_type": "code",
      "source": [
        "# Chart - 6 visualization code\n",
        "# Plotting the relationship between sentiment_subjectivity and sentiment_polarity in scatter plot\n",
        "sns.scatterplot(data=non_null_user_reviews_df, x='Sentiment_Subjectivity', y='Sentiment_Polarity')\n",
        "plt.title(\"Relationship between sentiment_subjectivity and sentiment_polarity\")"
      ],
      "metadata": {
        "id": "kuRf4wtuphqN"
      },
      "execution_count": null,
      "outputs": []
    },
    {
      "cell_type": "markdown",
      "source": [
        "##### 1. Why did you pick the specific chart?"
      ],
      "metadata": {
        "id": "bbFf2-_FphqN"
      }
    },
    {
      "cell_type": "markdown",
      "source": [
        "Answer Here."
      ],
      "metadata": {
        "id": "loh7H2nzphqN"
      }
    },
    {
      "cell_type": "markdown",
      "source": [
        "##### 2. What is/are the insight(s) found from the chart?"
      ],
      "metadata": {
        "id": "_ouA3fa0phqN"
      }
    },
    {
      "cell_type": "markdown",
      "source": [
        "Answer Here"
      ],
      "metadata": {
        "id": "VECbqPI7phqN"
      }
    },
    {
      "cell_type": "markdown",
      "source": [
        "##### 3. Will the gained insights help creating a positive business impact?\n",
        "Are there any insights that lead to negative growth? Justify with specific reason."
      ],
      "metadata": {
        "id": "Seke61FWphqN"
      }
    },
    {
      "cell_type": "markdown",
      "source": [
        "Answer Here"
      ],
      "metadata": {
        "id": "DW4_bGpfphqN"
      }
    },
    {
      "cell_type": "markdown",
      "source": [
        "#### Chart - 7 - Sentiment percentage analyse\n",
        "\n",
        "\n",
        "The below plot show that the Postitive reviews are in high, so that it can be conluded that the over all reviews are Positive"
      ],
      "metadata": {
        "id": "PIIx-8_IphqN"
      }
    },
    {
      "cell_type": "code",
      "source": [
        "# Chart - 7 visualization code\n",
        "#Counts of Review sentiments\n",
        "non_null_user_reviews_df['Sentiment'].value_counts()"
      ],
      "metadata": {
        "id": "lqAIGUfyphqO"
      },
      "execution_count": null,
      "outputs": []
    },
    {
      "cell_type": "code",
      "source": [
        "#Percentage of Review sentiments\n",
        "non_null_user_reviews_df['Sentiment'].value_counts().plot(kind='pie', explode= (0.1,0.1,0.1), shadow=True, autopct='%1.2f%%', pctdistance=1.1, labeldistance=1.2)"
      ],
      "metadata": {
        "id": "NzGbocgYlKey"
      },
      "execution_count": null,
      "outputs": []
    },
    {
      "cell_type": "markdown",
      "source": [
        "##### 1. Why did you pick the specific chart?"
      ],
      "metadata": {
        "id": "t27r6nlMphqO"
      }
    },
    {
      "cell_type": "markdown",
      "source": [
        "To figure out which which reviews are higher compred with others."
      ],
      "metadata": {
        "id": "iv6ro40sphqO"
      }
    },
    {
      "cell_type": "markdown",
      "source": [
        "#### Chart - 8 **Heatmap**"
      ],
      "metadata": {
        "id": "BZR9WyysphqO"
      }
    },
    {
      "cell_type": "code",
      "source": [
        "# Finding correlation between different columns in the play store data\n",
        "playstore_data_df.corr()"
      ],
      "metadata": {
        "id": "TdPTWpAVphqO"
      },
      "execution_count": null,
      "outputs": []
    },
    {
      "cell_type": "code",
      "source": [
        "# Heat map for play_store\n",
        "plt.figure(figsize = (20,10))\n",
        "sns.heatmap(playstore_data_df.corr(), annot= True)\n",
        "plt.title('Corelation Heatmap for Playstore Data', size=20)"
      ],
      "metadata": {
        "id": "nrl_JgoEc74C"
      },
      "execution_count": null,
      "outputs": []
    },
    {
      "cell_type": "markdown",
      "source": [
        "There is a strong positive correlation between the Reviews and Installs column. This is pretty much obvious. Higher the number of installs, higher is the user base, and higher are the total number of reviews dropped by the users.\n",
        "ThePriceis slightly negatively correlated with the Rating, Reviews, and Installs. This means that as the prices of the app increases, the average rating, total number of reviews and Installs fall slightly.\n",
        "TheRating is slightly positively correlated with theInstalls and Reviews column. This indicates that as the the average user rating increases, the app installs and number of reviews also increase."
      ],
      "metadata": {
        "id": "iS0P5ImudGNT"
      }
    },
    {
      "cell_type": "markdown",
      "source": [
        "Let us check if there is any co-relation in both the dataframes"
      ],
      "metadata": {
        "id": "2aWlKDMTqmne"
      }
    },
    {
      "cell_type": "code",
      "source": [
        "merged_df = pd.merge(playstore_data_df, user_reviews_df, on='App', how = \"inner\")\n",
        "def merged_dfinfo():\n",
        "  temp = pd.DataFrame(index=merged_df.columns)\n",
        "  temp['data_type'] = merged_df.dtypes\n",
        "  temp[\"count of non null values\"] = merged_df.count()\n",
        "  temp['NaN values'] = merged_df .isnull().sum()\n",
        "  temp['% NaN values'] =merged_df .isnull().mean()\n",
        "  temp['unique_count'] = merged_df .nunique()\n",
        "  return temp\n",
        "merged_dfinfo()"
      ],
      "metadata": {
        "id": "iVlZISiNqvXI"
      },
      "execution_count": null,
      "outputs": []
    },
    {
      "cell_type": "code",
      "source": [
        "# Heat Map for the merged data frame\n",
        "plt.figure(figsize=(30, 20))  # Adjust the figure size as needed\n",
        "heatmap = sns.heatmap(merged_df.corr(numeric_only=True), annot=True, cmap='Greens', fmt='.2f', annot_kws={\"size\": 10})\n",
        "plt.title('Heatmap for merged Dataframe', size=20)\n",
        "plt.xticks(rotation=45, ha='right')\n",
        "plt.yticks(rotation=0)\n",
        "plt.show()"
      ],
      "metadata": {
        "id": "Df2XpLTNq56J"
      },
      "execution_count": null,
      "outputs": []
    },
    {
      "cell_type": "code",
      "source": [
        "merged_df = merged_df.dropna(subset=['Sentiment', 'Translated_Review'])"
      ],
      "metadata": {
        "id": "GiAmtjS8q-yP"
      },
      "execution_count": null,
      "outputs": []
    },
    {
      "cell_type": "code",
      "source": [
        "merged_df.head()"
      ],
      "metadata": {
        "id": "IdZ_FRSGrDRu"
      },
      "execution_count": null,
      "outputs": []
    },
    {
      "cell_type": "markdown",
      "source": [
        "##### 1. Why did you pick the specific chart?\n",
        "\n",
        "There is a strong positive correlation between the Reviews and Installs column. This is pretty much obvious. Higher the number of installs, higher is the user base, and higher are the total number of reviews dropped by the users. ThePriceis slightly negatively correlated with the Rating, Reviews, and Installs. This means that as the prices of the app increases, the average rating, total number of reviews and Installs fall slightly. TheRating is slightly positively correlated with theInstalls and Reviews column. This indicates that as the the average user rating increases, the app installs and number of reviews also increase."
      ],
      "metadata": {
        "id": "QcBNdjKdrLGZ"
      }
    },
    {
      "cell_type": "markdown",
      "source": [
        "#### Chart - 9)Top categories on Google Playstore?"
      ],
      "metadata": {
        "id": "YJ55k-q6phqO"
      }
    },
    {
      "cell_type": "code",
      "source": [
        "playstore_data_df.groupby(\"Category\")[\"App\"].count().sort_values(ascending= False)"
      ],
      "metadata": {
        "id": "B2aS4O1ophqO"
      },
      "execution_count": null,
      "outputs": []
    },
    {
      "cell_type": "code",
      "source": [
        "x = playstore_data_df['Category'].value_counts()\n",
        "y = playstore_data_df['Category'].value_counts().index\n",
        "x_list = []\n",
        "y_list = []\n",
        "for i in range(len(x)):\n",
        "    x_list.append(x[i])\n",
        "    y_list.append(y[i])"
      ],
      "metadata": {
        "id": "4KgIWh_SmMzf"
      },
      "execution_count": null,
      "outputs": []
    },
    {
      "cell_type": "code",
      "source": [
        "#Number of apps belonging to each category in the playstore\n",
        "plt.figure(figsize=(20,10))\n",
        "plt.xlabel('Number of Apps', size=15)\n",
        "plt.ylabel('App Categories', size=15)\n",
        "graph = sns.barplot(y = x_list, x = y_list, palette= \"tab10\")\n",
        "graph.set_title(\"Top categories on Playstore\", fontsize = 25)\n",
        "graph.set_xticklabels(graph.get_xticklabels(), rotation= 45, horizontalalignment='right',);"
      ],
      "metadata": {
        "id": "OSRHqAiJmSS_"
      },
      "execution_count": null,
      "outputs": []
    },
    {
      "cell_type": "code",
      "source": [
        "# Percentage of apps belonging to each category in the playstore\n",
        "plt.figure(figsize=(18,18))\n",
        "plt.pie(playstore_data_df.Category.value_counts(), labels=playstore_data_df.Category.value_counts().index, autopct='%1.2f%%')\n",
        "my_circle = plt.Circle( (0,0), 0.50, color='white')\n",
        "p=plt.gcf()\n",
        "p.gca().add_artist(my_circle)\n",
        "plt.title('% of apps share in each Category', fontsize = 25)\n",
        "plt.show()"
      ],
      "metadata": {
        "id": "fZfGFUEGmZD3"
      },
      "execution_count": null,
      "outputs": []
    },
    {
      "cell_type": "markdown",
      "source": [
        "##### 1. Why did you pick the specific chart?"
      ],
      "metadata": {
        "id": "gCFgpxoyphqP"
      }
    },
    {
      "cell_type": "markdown",
      "source": [
        "To find the top apps used."
      ],
      "metadata": {
        "id": "TVxDimi2phqP"
      }
    },
    {
      "cell_type": "markdown",
      "source": [
        "##### 2. What is/are the insight(s) found from the chart?"
      ],
      "metadata": {
        "id": "OVtJsKN_phqQ"
      }
    },
    {
      "cell_type": "markdown",
      "source": [
        "So there are all total 33 categories in the dataset From the above output we can come to a conclusion that in playstore most of the apps are underFAMILY & GAME category and least are of EVENTS & BEAUTY Category."
      ],
      "metadata": {
        "id": "ngGi97qjphqQ"
      }
    },
    {
      "cell_type": "markdown",
      "source": [
        "##### 3. Will the gained insights help creating a positive business impact?\n",
        "Are there any insights that lead to negative growth? Justify with specific reason."
      ],
      "metadata": {
        "id": "lssrdh5qphqQ"
      }
    },
    {
      "cell_type": "markdown",
      "source": [
        "This information will help the developer to understand which app is more popular in market and more profitable from business point of view."
      ],
      "metadata": {
        "id": "tBpY5ekJphqQ"
      }
    },
    {
      "cell_type": "markdown",
      "source": [
        "## **5. Solution to Business Objective**"
      ],
      "metadata": {
        "id": "JcMwzZxoAimU"
      }
    },
    {
      "cell_type": "markdown",
      "source": [
        "#### What do you suggest the client to achieve Business Objective ?\n",
        "Based on the analysis conducted and the insights gained from the project, here are some recommendations for the client to achieve their business objective of \"App Engagement Optimization\":\n",
        "\n",
        "*  Focus on Top Genres and Categories: The client should prioritize developing apps in the top-performing genres and categories identified in the analysis. By aligning their app offerings with popular user preferences, they can increase the chances of app engagement and success\n",
        "*   Improve App Ratings: Given the importance of app ratings in user decision-making, the client should focus on improving app quality, user experience, and addressing user feedback. Positive reviews and high ratings can significantly boost app visibility and engagement.\n",
        "*   Consider Pricing Strategies: Analyzing the variation between free and paid apps can help the client decide on the most suitable pricing model for their apps. They should carefully consider the value they offer to users and strike a balance between monetization and user satisfaction.\n",
        "*  Continuous Improvement: To ensure long-term success, the client should adopt a data-driven approach and regularly analyze user feedback and app performance. Continuous improvement and updates based on user preferences will help maintain engagement and retain users.\n",
        "* Top categories on Google Playstore: To figure out which apps are most liked by the customer and most used.\n",
        "\n",
        "\n",
        "\n",
        "\n",
        "\n",
        "\n"
      ],
      "metadata": {
        "id": "8G2x9gOozGDZ"
      }
    },
    {
      "cell_type": "markdown",
      "source": [
        "# **Conclusion**"
      ],
      "metadata": {
        "id": "gCX9965dhzqZ"
      }
    },
    {
      "cell_type": "markdown",
      "source": [
        "Through a comprehensive analysis of Play Store app data and customer reviews, this project successfully uncovered valuable insights into factors that influence app engagement and success in the Android market. By examining app attributes, ratings, and user sentiments, we identified key aspects that developers can leverage to enhance their app's appeal and performance."
      ],
      "metadata": {
        "id": "Fjb1IsQkh3yE"
      }
    },
    {
      "cell_type": "markdown",
      "source": [
        "### ***Hurrah! You have successfully completed your EDA Capstone Project !!!***"
      ],
      "metadata": {
        "id": "gIfDvo9L0UH2"
      }
    }
  ]
}